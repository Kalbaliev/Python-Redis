{
 "cells": [
  {
   "cell_type": "markdown",
   "metadata": {},
   "source": [
    "# Redis NoSQL Database and Pub/Sub"
   ]
  },
  {
   "cell_type": "code",
   "execution_count": 174,
   "metadata": {},
   "outputs": [],
   "source": [
    "import redis \n",
    "red_server = redis.StrictRedis(host=\"localhost\", port=6379, db=0)"
   ]
  },
  {
   "cell_type": "markdown",
   "metadata": {},
   "source": [
    "## String Data Structure / StringCommands"
   ]
  },
  {
   "cell_type": "markdown",
   "metadata": {},
   "source": [
    "### Add Values"
   ]
  },
  {
   "cell_type": "code",
   "execution_count": null,
   "metadata": {},
   "outputs": [],
   "source": [
    "red_server.set(\"name\",\"Ali\")\n",
    "red_server.set(\"surname\",\"Kalbaliyev\")\n",
    "red_server.set(\"age\",\"24\")"
   ]
  },
  {
   "cell_type": "markdown",
   "metadata": {},
   "source": [
    "### Increase and Decrease integer value"
   ]
  },
  {
   "cell_type": "code",
   "execution_count": 176,
   "metadata": {},
   "outputs": [
    {
     "data": {
      "text/plain": [
       "25"
      ]
     },
     "execution_count": 176,
     "metadata": {},
     "output_type": "execute_result"
    }
   ],
   "source": [
    "red_server.incr(\"age\") # default 1"
   ]
  },
  {
   "cell_type": "code",
   "execution_count": 177,
   "metadata": {},
   "outputs": [
    {
     "data": {
      "text/plain": [
       "35"
      ]
     },
     "execution_count": 177,
     "metadata": {},
     "output_type": "execute_result"
    }
   ],
   "source": [
    "red_server.incr(\"age\",10)"
   ]
  },
  {
   "cell_type": "code",
   "execution_count": 178,
   "metadata": {},
   "outputs": [
    {
     "data": {
      "text/plain": [
       "34"
      ]
     },
     "execution_count": 178,
     "metadata": {},
     "output_type": "execute_result"
    }
   ],
   "source": [
    "red_server.decr(\"age\") # default 1"
   ]
  },
  {
   "cell_type": "code",
   "execution_count": 179,
   "metadata": {},
   "outputs": [
    {
     "data": {
      "text/plain": [
       "24"
      ]
     },
     "execution_count": 179,
     "metadata": {},
     "output_type": "execute_result"
    }
   ],
   "source": [
    "red_server.decr(\"age\",10)"
   ]
  },
  {
   "cell_type": "markdown",
   "metadata": {},
   "source": [
    "### Multiple Set Keys"
   ]
  },
  {
   "cell_type": "code",
   "execution_count": null,
   "metadata": {},
   "outputs": [],
   "source": [
    "red_server.mset({\n",
    "    \"firstname\":\"Ali\",\n",
    "    \"lastname\":\"Kalbaliyev\",\n",
    "    \"position\":\"Data Scientist\"\n",
    "})"
   ]
  },
  {
   "cell_type": "markdown",
   "metadata": {},
   "source": [
    "### Get values from Redis"
   ]
  },
  {
   "cell_type": "code",
   "execution_count": 181,
   "metadata": {},
   "outputs": [
    {
     "data": {
      "text/plain": [
       "b'string'"
      ]
     },
     "execution_count": 181,
     "metadata": {},
     "output_type": "execute_result"
    }
   ],
   "source": [
    "red_server.type(\"surname\") # show redis type of key"
   ]
  },
  {
   "cell_type": "code",
   "execution_count": 182,
   "metadata": {},
   "outputs": [
    {
     "name": "stdout",
     "output_type": "stream",
     "text": [
      "Type: b'string', Key:value | name => b'Ali'\n",
      "Type: b'string', Key:value | surname => b'Kalbaliyev'\n",
      "Type: b'string', Key:value | age => b'24'\n",
      "------------------------------------------------------\n",
      "Type: b'string', Key:value | firstname => b'Ali'\n",
      "Type: b'string', Key:value | lastname => b'Kalbaliyev'\n",
      "Type: b'string', Key:value | position => b'Data Scientist'\n"
     ]
    }
   ],
   "source": [
    "for key in [\"name\",\"surname\",\"age\"]:\n",
    "    val=red_server.get(key)\n",
    "    print(f\"Type: {red_server.type(key)}, Key:value | {key} => {val}\")\n",
    "print(\"------------------------------------------------------\")\n",
    "for key in [\"firstname\",\"lastname\",\"position\"]:\n",
    "    val=red_server.get(key)\n",
    "    print(f\"Type: {red_server.type(key)}, Key:value | {key} => {val}\")"
   ]
  },
  {
   "cell_type": "code",
   "execution_count": 183,
   "metadata": {},
   "outputs": [
    {
     "data": {
      "text/plain": [
       "[b'position', b'surname', b'firstname', b'name', b'lastname', b'age']"
      ]
     },
     "execution_count": 183,
     "metadata": {},
     "output_type": "execute_result"
    }
   ],
   "source": [
    "red_server.keys() # get all keys' list"
   ]
  },
  {
   "cell_type": "code",
   "execution_count": 184,
   "metadata": {},
   "outputs": [
    {
     "name": "stdout",
     "output_type": "stream",
     "text": [
      "Type: b'string', Key:value | b'position' => b'Data Scientist'\n",
      "Type: b'string', Key:value | b'surname' => b'Kalbaliyev'\n",
      "Type: b'string', Key:value | b'firstname' => b'Ali'\n",
      "Type: b'string', Key:value | b'name' => b'Ali'\n",
      "Type: b'string', Key:value | b'lastname' => b'Kalbaliyev'\n",
      "Type: b'string', Key:value | b'age' => b'24'\n"
     ]
    }
   ],
   "source": [
    "for key in red_server.keys():\n",
    "    val=red_server.get(key)\n",
    "    print(f\"Type: {red_server.type(key)}, Key:value | {key} => {val}\")"
   ]
  },
  {
   "cell_type": "markdown",
   "metadata": {},
   "source": [
    "### Multiple Get Values"
   ]
  },
  {
   "cell_type": "code",
   "execution_count": 185,
   "metadata": {},
   "outputs": [
    {
     "data": {
      "text/plain": [
       "[b'Data Scientist', b'Kalbaliyev', b'Ali', b'Ali', b'Kalbaliyev', b'24']"
      ]
     },
     "execution_count": 185,
     "metadata": {},
     "output_type": "execute_result"
    }
   ],
   "source": [
    "red_server.mget(red_server.keys())"
   ]
  },
  {
   "cell_type": "code",
   "execution_count": 186,
   "metadata": {},
   "outputs": [
    {
     "data": {
      "text/plain": [
       "{b'position': b'Data Scientist',\n",
       " b'surname': b'Kalbaliyev',\n",
       " b'firstname': b'Ali',\n",
       " b'name': b'Ali',\n",
       " b'lastname': b'Kalbaliyev',\n",
       " b'age': b'24'}"
      ]
     },
     "execution_count": 186,
     "metadata": {},
     "output_type": "execute_result"
    }
   ],
   "source": [
    "dict(zip(red_server.keys(),red_server.mget(red_server.keys())))"
   ]
  },
  {
   "cell_type": "markdown",
   "metadata": {},
   "source": [
    "### Exists"
   ]
  },
  {
   "cell_type": "code",
   "execution_count": 187,
   "metadata": {},
   "outputs": [
    {
     "data": {
      "text/plain": [
       "1"
      ]
     },
     "execution_count": 187,
     "metadata": {},
     "output_type": "execute_result"
    }
   ],
   "source": [
    "red_server.exists(\"name\") # True=1, False=0"
   ]
  },
  {
   "cell_type": "code",
   "execution_count": 188,
   "metadata": {},
   "outputs": [
    {
     "data": {
      "text/plain": [
       "0"
      ]
     },
     "execution_count": 188,
     "metadata": {},
     "output_type": "execute_result"
    }
   ],
   "source": [
    "red_server.exists(\"url\") # True=1, False=0"
   ]
  },
  {
   "cell_type": "markdown",
   "metadata": {},
   "source": [
    "### Set Expired Key"
   ]
  },
  {
   "cell_type": "code",
   "execution_count": 189,
   "metadata": {},
   "outputs": [
    {
     "name": "stdout",
     "output_type": "stream",
     "text": [
      "Value :b'EUWDH72GF942GS2FH29F83WU9WF382HBD219uwe28GS72NDS'\n",
      "Value :b'EUWDH72GF942GS2FH29F83WU9WF382HBD219uwe28GS72NDS'\n",
      "Value :b'EUWDH72GF942GS2FH29F83WU9WF382HBD219uwe28GS72NDS'\n",
      "Value :b'EUWDH72GF942GS2FH29F83WU9WF382HBD219uwe28GS72NDS'\n",
      "Value :b'EUWDH72GF942GS2FH29F83WU9WF382HBD219uwe28GS72NDS'\n",
      "Expired key\n"
     ]
    }
   ],
   "source": [
    "import time\n",
    "\n",
    "red_server.set(\"token\",\"EUWDH72GF942GS2FH29F83WU9WF382HBD219uwe28GS72NDS\")\n",
    "red_server.expire(\"token\",5)\n",
    "\n",
    "while red_server.get(\"token\"):\n",
    "    print(f\"Value :{red_server.get('token')}\")\n",
    "    time.sleep(1)\n",
    "else:\n",
    "    print(\"Expired key\")"
   ]
  },
  {
   "cell_type": "code",
   "execution_count": 190,
   "metadata": {},
   "outputs": [],
   "source": [
    "red_server.get(\"token\") # output is nothing"
   ]
  },
  {
   "cell_type": "markdown",
   "metadata": {},
   "source": [
    "### Change Expired to Persistent ( with exists method )"
   ]
  },
  {
   "cell_type": "code",
   "execution_count": 191,
   "metadata": {},
   "outputs": [
    {
     "name": "stdout",
     "output_type": "stream",
     "text": [
      "1 seconds | Value :b'EUWDH72GF942GS2FH29F83WU9WF382HBD219uwe28GS72NDS'\n",
      "2 seconds | Value :b'EUWDH72GF942GS2FH29F83WU9WF382HBD219uwe28GS72NDS'\n",
      "3 seconds | Value :b'EUWDH72GF942GS2FH29F83WU9WF382HBD219uwe28GS72NDS'\n",
      "4 seconds | Value :b'EUWDH72GF942GS2FH29F83WU9WF382HBD219uwe28GS72NDS'\n",
      "5 seconds | Value :b'EUWDH72GF942GS2FH29F83WU9WF382HBD219uwe28GS72NDS'\n",
      "6 seconds | Value :b'EUWDH72GF942GS2FH29F83WU9WF382HBD219uwe28GS72NDS'\n",
      "7 seconds | Value :b'EUWDH72GF942GS2FH29F83WU9WF382HBD219uwe28GS72NDS'\n",
      "8 seconds | Value :b'EUWDH72GF942GS2FH29F83WU9WF382HBD219uwe28GS72NDS'\n",
      "9 seconds | Value :b'EUWDH72GF942GS2FH29F83WU9WF382HBD219uwe28GS72NDS'\n",
      "10 seconds | Value :b'EUWDH72GF942GS2FH29F83WU9WF382HBD219uwe28GS72NDS'\n",
      "Key is already persistent\n"
     ]
    }
   ],
   "source": [
    "import time\n",
    "\n",
    "red_server.set(\"token\",\"EUWDH72GF942GS2FH29F83WU9WF382HBD219uwe28GS72NDS\")\n",
    "red_server.expire(\"token\",5)\n",
    "i=1\n",
    "\n",
    "while red_server.exists(\"token\"):\n",
    "    print(f\"{i} seconds | Value :{red_server.get('token')}\")\n",
    "    \n",
    "    if i==3:\n",
    "        red_server.persist(\"token\")\n",
    "    elif i==10:\n",
    "        print(\"Key is already persistent\")\n",
    "        break\n",
    "    i+=1\n",
    "    time.sleep(1)\n",
    "else:\n",
    "    print(\"Expired key\")"
   ]
  },
  {
   "cell_type": "code",
   "execution_count": 192,
   "metadata": {},
   "outputs": [
    {
     "data": {
      "text/plain": [
       "b'EUWDH72GF942GS2FH29F83WU9WF382HBD219uwe28GS72NDS'"
      ]
     },
     "execution_count": 192,
     "metadata": {},
     "output_type": "execute_result"
    }
   ],
   "source": [
    "red_server.get(\"token\")"
   ]
  },
  {
   "cell_type": "markdown",
   "metadata": {},
   "source": [
    "### Delete Key"
   ]
  },
  {
   "cell_type": "code",
   "execution_count": 193,
   "metadata": {},
   "outputs": [],
   "source": [
    "red_server.delete(\"token\")\n",
    "red_server.get(\"token\") # After Deleting Output is nothing"
   ]
  },
  {
   "cell_type": "markdown",
   "metadata": {},
   "source": [
    "### Append string"
   ]
  },
  {
   "cell_type": "code",
   "execution_count": 194,
   "metadata": {},
   "outputs": [
    {
     "name": "stdout",
     "output_type": "stream",
     "text": [
      "Value:  b'Data Scientist'\n",
      "Value:  b'Data Scientist | ML Engineer'\n"
     ]
    }
   ],
   "source": [
    "print(\"Value: \",red_server.get(\"position\"))\n",
    "red_server.append(\"position\",\" | ML Engineer\")\n",
    "print(\"Value: \",red_server.get(\"position\"))"
   ]
  },
  {
   "cell_type": "markdown",
   "metadata": {},
   "source": [
    "### Rename Keys"
   ]
  },
  {
   "cell_type": "code",
   "execution_count": 195,
   "metadata": {},
   "outputs": [
    {
     "name": "stdout",
     "output_type": "stream",
     "text": [
      "Keys:  [b'position', b'surname', b'firstname', b'name', b'lastname', b'age']\n",
      "Keys:  [b'position', b'surname', b'firstname', b'name', b'lastname', b'ageofuser']\n"
     ]
    }
   ],
   "source": [
    "print(\"Keys: \",red_server.keys())\n",
    "red_server.rename(\"age\",\"ageofuser\")\n",
    "print(\"Keys: \",red_server.keys())"
   ]
  },
  {
   "cell_type": "markdown",
   "metadata": {},
   "source": [
    "### Create Dict Value as Dict on String Data Structure"
   ]
  },
  {
   "cell_type": "code",
   "execution_count": 450,
   "metadata": {},
   "outputs": [
    {
     "data": {
      "text/plain": [
       "{'fruits': ['apple', 'mango', 'banana'],\n",
       " 'veggies': ['spinach', 'onion', 'beans']}"
      ]
     },
     "execution_count": 450,
     "metadata": {},
     "output_type": "execute_result"
    }
   ],
   "source": [
    "import json\n",
    "\n",
    "data = {'fruits':['apple','mango','banana'], 'veggies':['spinach','onion','beans']}\n",
    "red_server.set('data', json.dumps(data))\n",
    "json.loads(red_server.get('data'))"
   ]
  },
  {
   "cell_type": "markdown",
   "metadata": {},
   "source": [
    "### Delete All data on db"
   ]
  },
  {
   "cell_type": "code",
   "execution_count": null,
   "metadata": {},
   "outputs": [],
   "source": [
    "red_server.flushdb()\n",
    "red_server.keys()"
   ]
  },
  {
   "cell_type": "markdown",
   "metadata": {},
   "source": [
    "## List Data Structure / ListCommands"
   ]
  },
  {
   "cell_type": "markdown",
   "metadata": {},
   "source": [
    "### Add Values like DEQUE"
   ]
  },
  {
   "cell_type": "code",
   "execution_count": null,
   "metadata": {},
   "outputs": [],
   "source": [
    "red_server.lpush(\"mylist\",70) #Left Append =  [70]"
   ]
  },
  {
   "cell_type": "code",
   "execution_count": null,
   "metadata": {},
   "outputs": [],
   "source": [
    "red_server.lpush(\"mylist\",200,80) #Left Append = [200, 70] -> [80,200,70]"
   ]
  },
  {
   "cell_type": "code",
   "execution_count": null,
   "metadata": {},
   "outputs": [],
   "source": [
    "red_server.rpush(\"mylist\",99,11,55) #Right Append = [80,200,70,99] -> [80,200,70,99,11] -> [80,200,70,99,11,55]"
   ]
  },
  {
   "cell_type": "code",
   "execution_count": null,
   "metadata": {},
   "outputs": [],
   "source": [
    "red_server.lpush(\"mylist2\",50,\"Ali\")"
   ]
  },
  {
   "cell_type": "code",
   "execution_count": null,
   "metadata": {},
   "outputs": [],
   "source": [
    "red_server.linsert(\"mylist2\",\"before\",\"50\",\"Kalbaliev\") # add value Kalbaliev , before 50 "
   ]
  },
  {
   "cell_type": "markdown",
   "metadata": {},
   "source": [
    "### Lenght Of List"
   ]
  },
  {
   "cell_type": "code",
   "execution_count": 323,
   "metadata": {},
   "outputs": [
    {
     "data": {
      "text/plain": [
       "6"
      ]
     },
     "execution_count": 323,
     "metadata": {},
     "output_type": "execute_result"
    }
   ],
   "source": [
    "red_server.llen(\"mylist\")"
   ]
  },
  {
   "cell_type": "markdown",
   "metadata": {},
   "source": [
    "### Get Values From List"
   ]
  },
  {
   "cell_type": "markdown",
   "metadata": {},
   "source": [
    "##### Indexing"
   ]
  },
  {
   "cell_type": "code",
   "execution_count": 324,
   "metadata": {},
   "outputs": [
    {
     "data": {
      "text/plain": [
       "b'Ali'"
      ]
     },
     "execution_count": 324,
     "metadata": {},
     "output_type": "execute_result"
    }
   ],
   "source": [
    "red_server.lindex(\"mylist2\",0)"
   ]
  },
  {
   "cell_type": "markdown",
   "metadata": {},
   "source": [
    "##### Slicing"
   ]
  },
  {
   "cell_type": "code",
   "execution_count": 325,
   "metadata": {},
   "outputs": [
    {
     "data": {
      "text/plain": [
       "[b'80', b'200', b'70']"
      ]
     },
     "execution_count": 325,
     "metadata": {},
     "output_type": "execute_result"
    }
   ],
   "source": [
    "red_server.lrange(\"mylist\",0,2)"
   ]
  },
  {
   "cell_type": "code",
   "execution_count": 326,
   "metadata": {},
   "outputs": [
    {
     "data": {
      "text/plain": [
       "[b'80', b'200', b'70', b'99', b'11', b'55']"
      ]
     },
     "execution_count": 326,
     "metadata": {},
     "output_type": "execute_result"
    }
   ],
   "source": [
    "red_server.lrange(\"mylist\",0,-1)"
   ]
  },
  {
   "cell_type": "code",
   "execution_count": 327,
   "metadata": {},
   "outputs": [
    {
     "data": {
      "text/plain": [
       "[b'Ali', b'Kalbaliev', b'50']"
      ]
     },
     "execution_count": 327,
     "metadata": {},
     "output_type": "execute_result"
    }
   ],
   "source": [
    "red_server.lrange(\"mylist2\",0,(red_server.llen(\"mylist2\")-1))"
   ]
  },
  {
   "cell_type": "markdown",
   "metadata": {},
   "source": [
    "### Overwrite Value of List"
   ]
  },
  {
   "cell_type": "code",
   "execution_count": null,
   "metadata": {},
   "outputs": [],
   "source": [
    "red_server.lset(\"mylist2\",0,\"Data Scientist\")"
   ]
  },
  {
   "cell_type": "code",
   "execution_count": 329,
   "metadata": {},
   "outputs": [
    {
     "data": {
      "text/plain": [
       "[b'Data Scientist', b'Kalbaliev', b'50']"
      ]
     },
     "execution_count": 329,
     "metadata": {},
     "output_type": "execute_result"
    }
   ],
   "source": [
    "red_server.lrange(\"mylist2\",0,(red_server.llen(\"mylist2\")-1))"
   ]
  },
  {
   "cell_type": "markdown",
   "metadata": {},
   "source": [
    "### Delete Value like DEQUE"
   ]
  },
  {
   "cell_type": "code",
   "execution_count": 330,
   "metadata": {},
   "outputs": [
    {
     "data": {
      "text/plain": [
       "b'80'"
      ]
     },
     "execution_count": 330,
     "metadata": {},
     "output_type": "execute_result"
    }
   ],
   "source": [
    "red_server.lpop(\"mylist\") # Left Pop - Delete"
   ]
  },
  {
   "cell_type": "code",
   "execution_count": 331,
   "metadata": {},
   "outputs": [
    {
     "data": {
      "text/plain": [
       "b'55'"
      ]
     },
     "execution_count": 331,
     "metadata": {},
     "output_type": "execute_result"
    }
   ],
   "source": [
    "red_server.rpop(\"mylist\") # Right Pop - Delete"
   ]
  },
  {
   "cell_type": "code",
   "execution_count": 332,
   "metadata": {},
   "outputs": [
    {
     "data": {
      "text/plain": [
       "[b'200', b'70', b'99', b'11']"
      ]
     },
     "execution_count": 332,
     "metadata": {},
     "output_type": "execute_result"
    }
   ],
   "source": [
    "red_server.lrange(\"mylist\",0,-1)"
   ]
  },
  {
   "cell_type": "markdown",
   "metadata": {},
   "source": [
    "### Delete Value for Value"
   ]
  },
  {
   "cell_type": "code",
   "execution_count": null,
   "metadata": {},
   "outputs": [],
   "source": [
    "red_server.lrem(\"mylist\",1,\"70\")"
   ]
  },
  {
   "cell_type": "code",
   "execution_count": 334,
   "metadata": {},
   "outputs": [
    {
     "data": {
      "text/plain": [
       "[b'200', b'99', b'11']"
      ]
     },
     "execution_count": 334,
     "metadata": {},
     "output_type": "execute_result"
    }
   ],
   "source": [
    "red_server.lrange(\"mylist\",0,-1)"
   ]
  },
  {
   "cell_type": "markdown",
   "metadata": {},
   "source": [
    "### Delete All data on db"
   ]
  },
  {
   "cell_type": "code",
   "execution_count": null,
   "metadata": {},
   "outputs": [],
   "source": [
    "red_server.flushdb()\n",
    "red_server.keys()"
   ]
  },
  {
   "cell_type": "markdown",
   "metadata": {},
   "source": [
    "## Dictionary Data Structure / HashCommands"
   ]
  },
  {
   "cell_type": "markdown",
   "metadata": {},
   "source": [
    "### One Value Add to Hash"
   ]
  },
  {
   "cell_type": "code",
   "execution_count": null,
   "metadata": {},
   "outputs": [],
   "source": [
    "red_server.hset(\"student1\",\"name\",\"Ali\")\n",
    "red_server.hset(\"student1\",\"surname\",\"Kalbaliev\")\n",
    "red_server.hset(\"student1\",\"age\",\"24\")"
   ]
  },
  {
   "cell_type": "code",
   "execution_count": 436,
   "metadata": {},
   "outputs": [
    {
     "data": {
      "text/plain": [
       "b'Kalbaliev'"
      ]
     },
     "execution_count": 436,
     "metadata": {},
     "output_type": "execute_result"
    }
   ],
   "source": [
    "red_server.hget(\"student1\",\"surname\") # Get one key's value"
   ]
  },
  {
   "cell_type": "code",
   "execution_count": 437,
   "metadata": {},
   "outputs": [
    {
     "data": {
      "text/plain": [
       "[b'Ali', b'Kalbaliev']"
      ]
     },
     "execution_count": 437,
     "metadata": {},
     "output_type": "execute_result"
    }
   ],
   "source": [
    "red_server.hmget(\"student1\",[\"name\",\"surname\"])  # Get Multiple keys' values"
   ]
  },
  {
   "cell_type": "code",
   "execution_count": 438,
   "metadata": {},
   "outputs": [
    {
     "data": {
      "text/plain": [
       "{b'name': b'Ali', b'surname': b'Kalbaliev', b'age': b'24'}"
      ]
     },
     "execution_count": 438,
     "metadata": {},
     "output_type": "execute_result"
    }
   ],
   "source": [
    "red_server.hgetall(\"student1\") # Get All Values"
   ]
  },
  {
   "cell_type": "markdown",
   "metadata": {},
   "source": [
    "### Multiple Values Add to Hash"
   ]
  },
  {
   "cell_type": "code",
   "execution_count": null,
   "metadata": {},
   "outputs": [],
   "source": [
    "red_server.hmset(\"student1\",\n",
    "                 {\"name\":\"Ali\",\n",
    "                  \"surname\":\"Kalbaliyev\",\n",
    "                  \"age\":24,\n",
    "                  \"gender\":\"Male\",\n",
    "                  \"studentStatus\":1, # instead of True\n",
    "                  \"Courses\":'[\"Redis\",\"Docker\",\"Apache Kafka\"]'})"
   ]
  },
  {
   "cell_type": "code",
   "execution_count": 440,
   "metadata": {},
   "outputs": [
    {
     "data": {
      "text/plain": [
       "{b'name': b'Ali',\n",
       " b'surname': b'Kalbaliyev',\n",
       " b'age': b'24',\n",
       " b'gender': b'Male',\n",
       " b'studentStatus': b'1',\n",
       " b'Courses': b'[\"Redis\",\"Docker\",\"Apache Kafka\"]'}"
      ]
     },
     "execution_count": 440,
     "metadata": {},
     "output_type": "execute_result"
    }
   ],
   "source": [
    "red_server.hgetall(\"student1\") # Get All Values"
   ]
  },
  {
   "cell_type": "code",
   "execution_count": 441,
   "metadata": {},
   "outputs": [
    {
     "data": {
      "text/plain": [
       "b'[\"Redis\",\"Docker\",\"Apache Kafka\"]'"
      ]
     },
     "execution_count": 441,
     "metadata": {},
     "output_type": "execute_result"
    }
   ],
   "source": [
    "red_server.hget(\"student1\",\"Courses\")"
   ]
  },
  {
   "cell_type": "markdown",
   "metadata": {},
   "source": [
    "##### Hash - Keys and Values"
   ]
  },
  {
   "cell_type": "code",
   "execution_count": 442,
   "metadata": {},
   "outputs": [
    {
     "name": "stdout",
     "output_type": "stream",
     "text": [
      "Keys:  [b'name', b'surname', b'age', b'gender', b'studentStatus', b'Courses']\n",
      "Values:  [b'Ali', b'Kalbaliyev', b'24', b'Male', b'1', b'[\"Redis\",\"Docker\",\"Apache Kafka\"]']\n"
     ]
    }
   ],
   "source": [
    "print(\"Keys: \",red_server.hkeys(\"student1\"))\n",
    "print(\"Values: \",red_server.hvals(\"student1\"))"
   ]
  },
  {
   "cell_type": "markdown",
   "metadata": {},
   "source": [
    "##### Hash - Exists"
   ]
  },
  {
   "cell_type": "code",
   "execution_count": 443,
   "metadata": {},
   "outputs": [
    {
     "name": "stdout",
     "output_type": "stream",
     "text": [
      "True\n",
      "False\n"
     ]
    }
   ],
   "source": [
    "print(red_server.hexists(\"student1\",\"Courses\"))\n",
    "print(red_server.hexists(\"student1\",\"Numbers\"))"
   ]
  },
  {
   "cell_type": "markdown",
   "metadata": {},
   "source": [
    "##### Hash - Len"
   ]
  },
  {
   "cell_type": "code",
   "execution_count": 444,
   "metadata": {},
   "outputs": [
    {
     "name": "stdout",
     "output_type": "stream",
     "text": [
      "6\n"
     ]
    }
   ],
   "source": [
    "print(red_server.hlen(\"student1\")) # Elements size"
   ]
  },
  {
   "cell_type": "markdown",
   "metadata": {},
   "source": [
    "### Delete Values From Hash"
   ]
  },
  {
   "cell_type": "code",
   "execution_count": null,
   "metadata": {},
   "outputs": [],
   "source": [
    "red_server.hdel(\"student1\",\"studentStatus\")"
   ]
  },
  {
   "cell_type": "code",
   "execution_count": 446,
   "metadata": {},
   "outputs": [
    {
     "data": {
      "text/plain": [
       "{b'name': b'Ali',\n",
       " b'surname': b'Kalbaliyev',\n",
       " b'age': b'24',\n",
       " b'gender': b'Male',\n",
       " b'Courses': b'[\"Redis\",\"Docker\",\"Apache Kafka\"]'}"
      ]
     },
     "execution_count": 446,
     "metadata": {},
     "output_type": "execute_result"
    }
   ],
   "source": [
    "red_server.hgetall(\"student1\")"
   ]
  },
  {
   "cell_type": "markdown",
   "metadata": {},
   "source": [
    "### Extra: Decode Bytes to Dict and List From \"Added String Dict and String List\""
   ]
  },
  {
   "cell_type": "code",
   "execution_count": null,
   "metadata": {},
   "outputs": [],
   "source": [
    "red_server.hset(\"student1\",\"education\",'{\"university\": \"ASOIU\",\"degree\": \"Bachelor\",\"years\": 4}')"
   ]
  },
  {
   "cell_type": "code",
   "execution_count": 452,
   "metadata": {},
   "outputs": [
    {
     "data": {
      "text/plain": [
       "{b'name': b'Ali',\n",
       " b'surname': b'Kalbaliyev',\n",
       " b'age': b'24',\n",
       " b'gender': b'Male',\n",
       " b'Courses': b'[\"Redis\",\"Docker\",\"Apache Kafka\"]',\n",
       " b'education': b'{\"university\": \"ASOIU\",\"degree\": \"Bachelor\",\"years\": 4}'}"
      ]
     },
     "execution_count": 452,
     "metadata": {},
     "output_type": "execute_result"
    }
   ],
   "source": [
    "red_server.hgetall(\"student1\")"
   ]
  },
  {
   "cell_type": "code",
   "execution_count": 449,
   "metadata": {},
   "outputs": [
    {
     "name": "stdout",
     "output_type": "stream",
     "text": [
      "Courses List:  ['Redis', 'Docker', 'Apache Kafka'] Type:  <class 'list'>\n",
      "Education Dict:  {'university': 'ASOIU', 'degree': 'Bachelor', 'years': 4} Type:  <class 'dict'>\n"
     ]
    }
   ],
   "source": [
    "import ast\n",
    "\n",
    "decoded1 = red_server.hget(\"student1\",\"Courses\").decode(\"UTF-8\")\n",
    "courses_list= ast.literal_eval(decoded1)\n",
    "\n",
    "\n",
    "decoded2 = red_server.hget(\"student1\",\"education\").decode(\"UTF-8\")\n",
    "education_dict= ast.literal_eval(decoded2)\n",
    "\n",
    "print(\"Courses List: \",courses_list , \"Type: \",type(courses_list))\n",
    "print(\"Education Dict: \",education_dict , \"Type: \",type(education_dict))"
   ]
  },
  {
   "cell_type": "markdown",
   "metadata": {},
   "source": [
    "## Pub/Sub - Publisher Subsriber ( Messaging Broker )"
   ]
  },
  {
   "cell_type": "code",
   "execution_count": 456,
   "metadata": {},
   "outputs": [],
   "source": [
    "import threading"
   ]
  },
  {
   "cell_type": "code",
   "execution_count": 110,
   "metadata": {},
   "outputs": [],
   "source": [
    "class Listener(threading.Thread):\n",
    "    def __init__(self,red_server,channels):\n",
    "        threading.Thread.__init__(self)\n",
    "        \n",
    "        self.redis = red_server\n",
    "        self.pubsub = self.redis.pubsub() \n",
    "        self.pubsub.subscribe(channels)\n",
    "\n",
    "    def work(self,message_props):\n",
    "        if message_props['type']=='message':\n",
    "            print(\"Channel: \",message_props['channel'],\n",
    "                  \"\\nMessage:\", message_props[\"data\"])\n",
    "        else:\n",
    "            print(f\"Subscribed to {message_props['channel']}\")\n",
    "\n",
    "    def run(self):\n",
    "        for message_props in self.pubsub.listen():       \n",
    "            \n",
    "            if  message_props[\"data\"] == bytes(\"KILL\", 'utf-8'):\n",
    "                self.pubsub.unsubscribe()\n",
    "                print (\"Unsubscribed\")\n",
    "                break\n",
    "            else:\n",
    "                self.work(message_props)"
   ]
  },
  {
   "cell_type": "code",
   "execution_count": 111,
   "metadata": {},
   "outputs": [
    {
     "name": "stdout",
     "output_type": "stream",
     "text": [
      "Subscribed to b'mychannel-1'\n",
      "Subscribed to b'mychannel-2'\n"
     ]
    }
   ],
   "source": [
    "client = Listener(red_server,[\"mychannel-1\",\"mychannel-2\"])\n",
    "client.start()"
   ]
  },
  {
   "cell_type": "markdown",
   "metadata": {},
   "source": [
    "#### Channel 1 - Publishing"
   ]
  },
  {
   "cell_type": "code",
   "execution_count": 112,
   "metadata": {},
   "outputs": [
    {
     "name": "stdout",
     "output_type": "stream",
     "text": [
      "Channel: 1 b'mychannel-1' \n",
      "Message: b'My first message'\n",
      "\n"
     ]
    }
   ],
   "source": [
    "print(red_server.publish(\"mychannel-1\",\"My first message\"))"
   ]
  },
  {
   "cell_type": "code",
   "execution_count": 113,
   "metadata": {},
   "outputs": [
    {
     "name": "stdout",
     "output_type": "stream",
     "text": [
      "Channel: "
     ]
    },
    {
     "data": {
      "text/plain": [
       "1"
      ]
     },
     "execution_count": 113,
     "metadata": {},
     "output_type": "execute_result"
    },
    {
     "name": "stdout",
     "output_type": "stream",
     "text": [
      " b'mychannel-1' \n",
      "Message: b'My second message'\n"
     ]
    }
   ],
   "source": [
    "red_server.publish(\"mychannel-1\",\"My second message\")"
   ]
  },
  {
   "cell_type": "markdown",
   "metadata": {},
   "source": [
    "#### Channel 2 - Publishing"
   ]
  },
  {
   "cell_type": "code",
   "execution_count": 114,
   "metadata": {},
   "outputs": [
    {
     "name": "stdout",
     "output_type": "stream",
     "text": [
      "Channel:  b'mychannel-2' \n",
      "Message: b'My first message'\n",
      "Channel:  b'mychannel-2' \n",
      "Message:"
     ]
    },
    {
     "data": {
      "text/plain": [
       "1"
      ]
     },
     "execution_count": 114,
     "metadata": {},
     "output_type": "execute_result"
    },
    {
     "name": "stdout",
     "output_type": "stream",
     "text": [
      " b'My second message'\n",
      "Unsubscribed\n"
     ]
    }
   ],
   "source": [
    "red_server.publish(\"mychannel-2\",\"My first message\")\n",
    "red_server.publish(\"mychannel-2\",\"My second message\")\n",
    "red_server.publish(\"mychannel-2\",\"KILL\")"
   ]
  },
  {
   "cell_type": "markdown",
   "metadata": {},
   "source": [
    "### After Unsubscribe"
   ]
  },
  {
   "cell_type": "code",
   "execution_count": 115,
   "metadata": {},
   "outputs": [
    {
     "data": {
      "text/plain": [
       "0"
      ]
     },
     "execution_count": 115,
     "metadata": {},
     "output_type": "execute_result"
    }
   ],
   "source": [
    "red_server.publish(\"mychannel-2\",\"My second message\")"
   ]
  },
  {
   "cell_type": "code",
   "execution_count": null,
   "metadata": {},
   "outputs": [],
   "source": []
  }
 ],
 "metadata": {
  "kernelspec": {
   "display_name": "Python 3",
   "language": "python",
   "name": "python3"
  },
  "language_info": {
   "codemirror_mode": {
    "name": "ipython",
    "version": 3
   },
   "file_extension": ".py",
   "mimetype": "text/x-python",
   "name": "python",
   "nbconvert_exporter": "python",
   "pygments_lexer": "ipython3",
   "version": "3.8.5"
  }
 },
 "nbformat": 4,
 "nbformat_minor": 4
}
